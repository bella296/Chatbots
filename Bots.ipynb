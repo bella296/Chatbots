{
  "nbformat": 4,
  "nbformat_minor": 0,
  "metadata": {
    "colab": {
      "name": "Untitled0.ipynb",
      "provenance": [],
      "collapsed_sections": []
    },
    "kernelspec": {
      "name": "python3",
      "display_name": "Python 3"
    },
    "language_info": {
      "name": "python"
    }
  },
  "cells": [
    {
      "cell_type": "code",
      "execution_count": 33,
      "metadata": {
        "id": "gSfrXOoCFxbc"
      },
      "outputs": [],
      "source": [
        "import random\n",
        "import numpy as np\n",
        "import string\n",
        "import nltk"
      ]
    },
    {
      "cell_type": "code",
      "source": [
        "f=open(\"chatbot.txt\",'r',errors=\"ignore\")#importing file for chatbot to read\n",
        "raw_doc=f.read()\n",
        "raw_doc=raw_doc.lower()\n",
        "nltk.download('punkt')#tokenizer\n",
        "nltk.download('wordnet')#wordnet dictionary\n",
        "sent_tokens=nltk.sent_tokenize(raw_doc)#conversion of doc into doc of sentence\n",
        "word_tokens=nltk.word_tokenize(raw_doc)#conversion of doc into doc of words"
      ],
      "metadata": {
        "colab": {
          "base_uri": "https://localhost:8080/"
        },
        "id": "uSJJ2T5fGNA1",
        "outputId": "3d8f3b95-3178-452f-caeb-d40fa7939f1d"
      },
      "execution_count": 34,
      "outputs": [
        {
          "output_type": "stream",
          "name": "stdout",
          "text": [
            "[nltk_data] Downloading package punkt to /root/nltk_data...\n",
            "[nltk_data]   Package punkt is already up-to-date!\n",
            "[nltk_data] Downloading package wordnet to /root/nltk_data...\n",
            "[nltk_data]   Package wordnet is already up-to-date!\n"
          ]
        }
      ]
    },
    {
      "cell_type": "code",
      "source": [
        "from nltk.classify.rte_classify import lemmatize\n",
        "lemmer=nltk.stem.WordNetLemmatizer()#wordnet semantically oriented dictionary\n",
        "def lem_tokens(tokens):\n",
        "  return [lemmer.lemmatize(token) for token in tokens] \n",
        "remove_punc_dict=dict((ord(punct),None) for punct in string.punctuation )\n",
        "def lemnormalizetxt():\n",
        "  return LemTokens(nlkt.word_tokenize(text.lower().translate(remove_punc_dict)))\n",
        "\n",
        "\n",
        "  \n"
      ],
      "metadata": {
        "id": "W3YwEf3nVduW"
      },
      "execution_count": 35,
      "outputs": []
    },
    {
      "cell_type": "code",
      "source": [
        "greet_inp=['hey','hi','sup','heya']\n",
        "greet_out=['hello','heya!','hii','heloo']\n",
        "def greet(sent):\n",
        "  for word in sent.split():\n",
        "    if word.lower() in greet_inp:\n",
        "      return random.choice(greet_out)\n",
        "  "
      ],
      "metadata": {
        "id": "5VO-aoHoeA2L"
      },
      "execution_count": 36,
      "outputs": []
    },
    {
      "cell_type": "code",
      "source": [
        "from sklearn.feature_extraction.text import TfidfVectorizer\n",
        "from sklearn.metrics .pairwise import cosine_similarity"
      ],
      "metadata": {
        "id": "DVBoayHMeqgx"
      },
      "execution_count": 37,
      "outputs": []
    },
    {
      "cell_type": "code",
      "source": [
        " def response(usr_resp):\n",
        "   robo1_resp=''\n",
        "  #  TfidfVec=TfidfVectorizer(tokenizer=LemNormalize ,stop_words=\"english\")\n",
        "   TfidfVec=TfidfVectorizer(stop_words=\"english\")\n",
        "   tfidf=TfidfVec.fit_transform(sent_tokens)\n",
        "   vals=cosine_similarity(tfidf[-1],tfidf)\n",
        "   idx=vals.argsort()[0][2]\n",
        "   flat=vals.flatten()\n",
        "   flat.sort()\n",
        "   req_tfidf=flat[-2]\n",
        "   if(req_tfidf==0):\n",
        "     robo1_resp=robo1_resp+\"sorry I couldn't understand!\"\n",
        "     return robo1_resp\n",
        "   else:\n",
        "      robo1_resp=robo1_resp+sent_tokens[idx]\n",
        "      return robo1_resp"
      ],
      "metadata": {
        "id": "6rRa9Z31fNMp"
      },
      "execution_count": 38,
      "outputs": []
    },
    {
      "cell_type": "code",
      "source": [
        "from nltk.tokenize import word_tokenize\n",
        "flag=True\n",
        "print(\"BOT:hello I'm your first BOT Naaz.Type something and I will give you info about CHATBOTS.To exit type bye\")\n",
        "while(flag==True):\n",
        "  usr_resp=input()\n",
        "  usr_resp=usr_resp.lower()\n",
        "  if(usr_resp!=\"bye\"):\n",
        "    if(usr_resp==\"thanks\" or usr_resp==\"thank-you\"):\n",
        "      flag=False\n",
        "      print(\"BOT:You're welcome!\")\n",
        "    else:\n",
        "      if (greet(usr_resp)!=None):\n",
        "        print(\"BOT:\"+greet(usr_resp))\n",
        "      else:\n",
        "       sent_tokens.append(usr_resp)\n",
        "       word_tokens=word_tokens+nltk.word_tokenize(usr_resp)\n",
        "       final_words=list(set(word_tokens))\n",
        "       print(\"BOT:\",end=\"\")\n",
        "       print(response(usr_resp))\n",
        "       sent_tokens.remove(usr_resp)\n",
        "  else:\n",
        "    flag=False\n",
        "    print(\"Goodbye! <3\")\n",
        "\n",
        "    \n"
      ],
      "metadata": {
        "colab": {
          "base_uri": "https://localhost:8080/"
        },
        "id": "nwUkNxslkCRS",
        "outputId": "a1c0135d-0da5-4109-b43c-a58ccad3d7ec"
      },
      "execution_count": 39,
      "outputs": [
        {
          "output_type": "stream",
          "name": "stdout",
          "text": [
            "BOT:hello I'm your first BOT Naaz.Type something and I will give you info about CHATBOTS.To exit type bye\n",
            "hey\n",
            "BOT:heloo\n",
            "bots\n",
            "BOT:how are chatbots changing businesses and cx?\n",
            "customers\n",
            "BOT:chatbots can also act as virtual assistants.\n",
            "services\n",
            "BOT:apple, amazon, google and microsoft all have forms of virtual assistants.\n",
            "thanks\n",
            "BOT:You're welcome!\n"
          ]
        }
      ]
    }
  ]
}